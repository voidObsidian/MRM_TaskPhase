{
 "cells": [
  {
   "cell_type": "code",
   "execution_count": 1723,
   "id": "f292ef12-0717-4d4b-a3ca-57dd5a164cd1",
   "metadata": {},
   "outputs": [],
   "source": [
    "import numpy as np\n",
    "import pandas as pd\n",
    "import matplotlib.pyplot as plt\n",
    "import seaborn as sns"
   ]
  },
  {
   "cell_type": "code",
   "execution_count": 1724,
   "id": "57c13d76-3d5e-45c5-9908-45bb61718ca9",
   "metadata": {},
   "outputs": [],
   "source": [
    "df = pd.read_csv(\"titanic.csv\")"
   ]
  },
  {
   "cell_type": "code",
   "execution_count": 1725,
   "id": "98d9d414-ee37-4ce8-8d97-39c3f9088e25",
   "metadata": {},
   "outputs": [
    {
     "data": {
      "text/html": [
       "<div>\n",
       "<style scoped>\n",
       "    .dataframe tbody tr th:only-of-type {\n",
       "        vertical-align: middle;\n",
       "    }\n",
       "\n",
       "    .dataframe tbody tr th {\n",
       "        vertical-align: top;\n",
       "    }\n",
       "\n",
       "    .dataframe thead th {\n",
       "        text-align: right;\n",
       "    }\n",
       "</style>\n",
       "<table border=\"1\" class=\"dataframe\">\n",
       "  <thead>\n",
       "    <tr style=\"text-align: right;\">\n",
       "      <th></th>\n",
       "      <th>PassengerId</th>\n",
       "      <th>Survived</th>\n",
       "      <th>Pclass</th>\n",
       "      <th>Age</th>\n",
       "      <th>SibSp</th>\n",
       "      <th>Parch</th>\n",
       "      <th>Fare</th>\n",
       "    </tr>\n",
       "  </thead>\n",
       "  <tbody>\n",
       "    <tr>\n",
       "      <th>count</th>\n",
       "      <td>891.000000</td>\n",
       "      <td>891.000000</td>\n",
       "      <td>891.000000</td>\n",
       "      <td>714.000000</td>\n",
       "      <td>891.000000</td>\n",
       "      <td>891.000000</td>\n",
       "      <td>891.000000</td>\n",
       "    </tr>\n",
       "    <tr>\n",
       "      <th>mean</th>\n",
       "      <td>446.000000</td>\n",
       "      <td>0.383838</td>\n",
       "      <td>2.308642</td>\n",
       "      <td>29.699118</td>\n",
       "      <td>0.523008</td>\n",
       "      <td>0.381594</td>\n",
       "      <td>32.204208</td>\n",
       "    </tr>\n",
       "    <tr>\n",
       "      <th>std</th>\n",
       "      <td>257.353842</td>\n",
       "      <td>0.486592</td>\n",
       "      <td>0.836071</td>\n",
       "      <td>14.526497</td>\n",
       "      <td>1.102743</td>\n",
       "      <td>0.806057</td>\n",
       "      <td>49.693429</td>\n",
       "    </tr>\n",
       "    <tr>\n",
       "      <th>min</th>\n",
       "      <td>1.000000</td>\n",
       "      <td>0.000000</td>\n",
       "      <td>1.000000</td>\n",
       "      <td>0.420000</td>\n",
       "      <td>0.000000</td>\n",
       "      <td>0.000000</td>\n",
       "      <td>0.000000</td>\n",
       "    </tr>\n",
       "    <tr>\n",
       "      <th>25%</th>\n",
       "      <td>223.500000</td>\n",
       "      <td>0.000000</td>\n",
       "      <td>2.000000</td>\n",
       "      <td>20.125000</td>\n",
       "      <td>0.000000</td>\n",
       "      <td>0.000000</td>\n",
       "      <td>7.910400</td>\n",
       "    </tr>\n",
       "    <tr>\n",
       "      <th>50%</th>\n",
       "      <td>446.000000</td>\n",
       "      <td>0.000000</td>\n",
       "      <td>3.000000</td>\n",
       "      <td>28.000000</td>\n",
       "      <td>0.000000</td>\n",
       "      <td>0.000000</td>\n",
       "      <td>14.454200</td>\n",
       "    </tr>\n",
       "    <tr>\n",
       "      <th>75%</th>\n",
       "      <td>668.500000</td>\n",
       "      <td>1.000000</td>\n",
       "      <td>3.000000</td>\n",
       "      <td>38.000000</td>\n",
       "      <td>1.000000</td>\n",
       "      <td>0.000000</td>\n",
       "      <td>31.000000</td>\n",
       "    </tr>\n",
       "    <tr>\n",
       "      <th>max</th>\n",
       "      <td>891.000000</td>\n",
       "      <td>1.000000</td>\n",
       "      <td>3.000000</td>\n",
       "      <td>80.000000</td>\n",
       "      <td>8.000000</td>\n",
       "      <td>6.000000</td>\n",
       "      <td>512.329200</td>\n",
       "    </tr>\n",
       "  </tbody>\n",
       "</table>\n",
       "</div>"
      ],
      "text/plain": [
       "       PassengerId    Survived      Pclass         Age       SibSp  \\\n",
       "count   891.000000  891.000000  891.000000  714.000000  891.000000   \n",
       "mean    446.000000    0.383838    2.308642   29.699118    0.523008   \n",
       "std     257.353842    0.486592    0.836071   14.526497    1.102743   \n",
       "min       1.000000    0.000000    1.000000    0.420000    0.000000   \n",
       "25%     223.500000    0.000000    2.000000   20.125000    0.000000   \n",
       "50%     446.000000    0.000000    3.000000   28.000000    0.000000   \n",
       "75%     668.500000    1.000000    3.000000   38.000000    1.000000   \n",
       "max     891.000000    1.000000    3.000000   80.000000    8.000000   \n",
       "\n",
       "            Parch        Fare  \n",
       "count  891.000000  891.000000  \n",
       "mean     0.381594   32.204208  \n",
       "std      0.806057   49.693429  \n",
       "min      0.000000    0.000000  \n",
       "25%      0.000000    7.910400  \n",
       "50%      0.000000   14.454200  \n",
       "75%      0.000000   31.000000  \n",
       "max      6.000000  512.329200  "
      ]
     },
     "execution_count": 1725,
     "metadata": {},
     "output_type": "execute_result"
    }
   ],
   "source": [
    "df.describe()"
   ]
  },
  {
   "cell_type": "code",
   "execution_count": 1726,
   "id": "078127d1-869c-43c9-8066-7548db21c360",
   "metadata": {},
   "outputs": [
    {
     "name": "stdout",
     "output_type": "stream",
     "text": [
      "['PassengerId', 'Survived', 'Pclass', 'Name', 'Sex', 'Age', 'SibSp', 'Parch', 'Ticket', 'Fare', 'Cabin', 'Embarked']\n"
     ]
    }
   ],
   "source": [
    "print(df.columns.tolist())"
   ]
  },
  {
   "cell_type": "code",
   "execution_count": 1727,
   "id": "aa2ac8ec-f778-4c50-9b3b-ed8fce32b70a",
   "metadata": {},
   "outputs": [
    {
     "data": {
      "text/plain": [
       "array([0, 1], dtype=int64)"
      ]
     },
     "execution_count": 1727,
     "metadata": {},
     "output_type": "execute_result"
    }
   ],
   "source": [
    "df[\"Survived\"].unique()"
   ]
  },
  {
   "cell_type": "code",
   "execution_count": 1728,
   "id": "c3f10fba-118d-4842-8c13-404ebdf4add7",
   "metadata": {},
   "outputs": [
    {
     "data": {
      "text/plain": [
       "array([nan, 'C85', 'C123', 'E46', 'G6', 'C103', 'D56', 'A6',\n",
       "       'C23 C25 C27', 'B78', 'D33', 'B30', 'C52', 'B28', 'C83', 'F33',\n",
       "       'F G73', 'E31', 'A5', 'D10 D12', 'D26', 'C110', 'B58 B60', 'E101',\n",
       "       'F E69', 'D47', 'B86', 'F2', 'C2', 'E33', 'B19', 'A7', 'C49', 'F4',\n",
       "       'A32', 'B4', 'B80', 'A31', 'D36', 'D15', 'C93', 'C78', 'D35',\n",
       "       'C87', 'B77', 'E67', 'B94', 'C125', 'C99', 'C118', 'D7', 'A19',\n",
       "       'B49', 'D', 'C22 C26', 'C106', 'C65', 'E36', 'C54',\n",
       "       'B57 B59 B63 B66', 'C7', 'E34', 'C32', 'B18', 'C124', 'C91', 'E40',\n",
       "       'T', 'C128', 'D37', 'B35', 'E50', 'C82', 'B96 B98', 'E10', 'E44',\n",
       "       'A34', 'C104', 'C111', 'C92', 'E38', 'D21', 'E12', 'E63', 'A14',\n",
       "       'B37', 'C30', 'D20', 'B79', 'E25', 'D46', 'B73', 'C95', 'B38',\n",
       "       'B39', 'B22', 'C86', 'C70', 'A16', 'C101', 'C68', 'A10', 'E68',\n",
       "       'B41', 'A20', 'D19', 'D50', 'D9', 'A23', 'B50', 'A26', 'D48',\n",
       "       'E58', 'C126', 'B71', 'B51 B53 B55', 'D49', 'B5', 'B20', 'F G63',\n",
       "       'C62 C64', 'E24', 'C90', 'C45', 'E8', 'B101', 'D45', 'C46', 'D30',\n",
       "       'E121', 'D11', 'E77', 'F38', 'B3', 'D6', 'B82 B84', 'D17', 'A36',\n",
       "       'B102', 'B69', 'E49', 'C47', 'D28', 'E17', 'A24', 'C50', 'B42',\n",
       "       'C148'], dtype=object)"
      ]
     },
     "execution_count": 1728,
     "metadata": {},
     "output_type": "execute_result"
    }
   ],
   "source": [
    "df[\"Cabin\"].unique()"
   ]
  },
  {
   "cell_type": "code",
   "execution_count": 1729,
   "id": "ffbf065a-4cb5-4e0a-9450-2e7ce3ee4284",
   "metadata": {},
   "outputs": [
    {
     "data": {
      "text/plain": [
       "array([3, 1, 2], dtype=int64)"
      ]
     },
     "execution_count": 1729,
     "metadata": {},
     "output_type": "execute_result"
    }
   ],
   "source": [
    "df[\"Pclass\"].unique()"
   ]
  },
  {
   "cell_type": "code",
   "execution_count": 1730,
   "id": "e51db2bf-e5ff-4845-ac6a-1b6487c42ac2",
   "metadata": {},
   "outputs": [
    {
     "data": {
      "text/plain": [
       "array(['male', 'female'], dtype=object)"
      ]
     },
     "execution_count": 1730,
     "metadata": {},
     "output_type": "execute_result"
    }
   ],
   "source": [
    "df[\"Sex\"].unique()"
   ]
  },
  {
   "cell_type": "code",
   "execution_count": 1731,
   "id": "a2586c43-7987-482f-94e6-330212604126",
   "metadata": {},
   "outputs": [
    {
     "data": {
      "text/plain": [
       "array([1, 0, 3, 4, 2, 5, 8], dtype=int64)"
      ]
     },
     "execution_count": 1731,
     "metadata": {},
     "output_type": "execute_result"
    }
   ],
   "source": [
    "df[\"SibSp\"].unique()"
   ]
  },
  {
   "cell_type": "code",
   "execution_count": 1732,
   "id": "5f861885-49ff-44cb-b4ce-052b043d297f",
   "metadata": {},
   "outputs": [
    {
     "data": {
      "text/plain": [
       "array([0, 1, 2, 5, 3, 4, 6], dtype=int64)"
      ]
     },
     "execution_count": 1732,
     "metadata": {},
     "output_type": "execute_result"
    }
   ],
   "source": [
    "df[\"Parch\"].unique()"
   ]
  },
  {
   "cell_type": "code",
   "execution_count": 1733,
   "id": "9f87c4ab-b3c3-4928-b459-3db2f80a5764",
   "metadata": {},
   "outputs": [
    {
     "data": {
      "text/plain": [
       "array(['S', 'C', 'Q', nan], dtype=object)"
      ]
     },
     "execution_count": 1733,
     "metadata": {},
     "output_type": "execute_result"
    }
   ],
   "source": [
    "df[\"Embarked\"].unique()"
   ]
  },
  {
   "cell_type": "code",
   "execution_count": 1734,
   "id": "854c1c6d-125e-435b-b1eb-3be5208ebdad",
   "metadata": {},
   "outputs": [
    {
     "name": "stdout",
     "output_type": "stream",
     "text": [
      "True\n",
      "PassengerId      0\n",
      "Survived         0\n",
      "Pclass           0\n",
      "Name             0\n",
      "Sex              0\n",
      "Age            177\n",
      "SibSp            0\n",
      "Parch            0\n",
      "Ticket           0\n",
      "Fare             0\n",
      "Cabin          687\n",
      "Embarked         2\n",
      "dtype: int64\n"
     ]
    }
   ],
   "source": [
    "print(df.isna().any().any())\n",
    "print(df.isna().sum())"
   ]
  },
  {
   "cell_type": "code",
   "execution_count": 1735,
   "id": "31852121-8df9-441c-a8b0-a74cf59644de",
   "metadata": {},
   "outputs": [],
   "source": [
    "df[\"Sex\"] = df[\"Sex\"].map({\"male\": 0, \"female\": 1})"
   ]
  },
  {
   "cell_type": "code",
   "execution_count": 1736,
   "id": "f65ceb25-0968-4b0e-8cab-b81657373679",
   "metadata": {},
   "outputs": [],
   "source": [
    "df[\"Age\"] = df[\"Age\"].fillna(df[\"Age\"].median())"
   ]
  },
  {
   "cell_type": "code",
   "execution_count": 1737,
   "id": "f8bd5b4c-2673-4fc0-b16d-6098215f9a73",
   "metadata": {},
   "outputs": [],
   "source": [
    "df[\"Embarked\"] = df[\"Embarked\"].fillna(\"S\")"
   ]
  },
  {
   "cell_type": "code",
   "execution_count": 1738,
   "id": "c360075c-f747-4e6c-b576-5fe15b497c2b",
   "metadata": {},
   "outputs": [],
   "source": [
    "df[\"Embarked\"] = df[\"Embarked\"].map({\"S\": 0, \"C\": 1, \"Q\": 2})"
   ]
  },
  {
   "cell_type": "code",
   "execution_count": 1739,
   "id": "48cf168e-0f22-4c01-af9d-a04f1d6e193b",
   "metadata": {},
   "outputs": [],
   "source": [
    "df[\"family\"]=df[\"SibSp\"]+df[\"Parch\"]"
   ]
  },
  {
   "cell_type": "code",
   "execution_count": 1740,
   "id": "049b7144-cebb-4dd9-bf03-dacd93458c5e",
   "metadata": {},
   "outputs": [
    {
     "data": {
      "image/png": "[encoded data removed]",
      "text/plain": [
       "<Figure size 1000x800 with 2 Axes>"
      ]
     },
     "metadata": {},
     "output_type": "display_data"
    }
   ],
   "source": [
    "New_df = df.drop(columns=['Survived','PassengerId','Name','Ticket','Cabin'])\n",
    "# Compute the correlation matrix\n",
    "correlation_matrix = New_df.corr()\n",
    "\n",
    "# Plot the heatmap\n",
    "plt.figure(figsize=(10, 8))\n",
    "sns.heatmap(correlation_matrix, annot=True, cmap='coolwarm', fmt='.2f', linewidths=0.5)\n",
    "plt.title('Correlation Matrix Heatmap')\n",
    "plt.show()"
   ]
  },
  {
   "cell_type": "code",
   "execution_count": 1741,
   "id": "74798481-30b7-4cfa-9b28-7ff22cedb559",
   "metadata": {},
   "outputs": [],
   "source": [
    "features = [\"Pclass\", \"Sex\", \"Age\", \"family\", \"Fare\", \"Embarked\"]  # Select important features\n",
    "X = df[features].values  # Convert to NumPy array\n",
    "y = df[\"Survived\"].values  # Target variable"
   ]
  },
  {
   "cell_type": "code",
   "execution_count": 1742,
   "id": "197a891d-1a96-4863-84eb-702f15abbba3",
   "metadata": {},
   "outputs": [],
   "source": [
    "X = (X - X.mean(axis=0)) / X.std(axis=0)  # Standardize features"
   ]
  },
  {
   "cell_type": "code",
   "execution_count": 1743,
   "id": "04a6ee7c-8f15-41ad-baa1-19cc1ccf556c",
   "metadata": {},
   "outputs": [],
   "source": [
    "#Ensure reproducibility\n",
    "np.random.seed(42)"
   ]
  },
  {
   "cell_type": "code",
   "execution_count": 1744,
   "id": "e9c28379-3451-4e27-8e73-cbfcb2c9f022",
   "metadata": {},
   "outputs": [],
   "source": [
    "# Shuffle data indices\n",
    "indices = np.arange(len(X))\n",
    "np.random.shuffle(indices)"
   ]
  },
  {
   "cell_type": "code",
   "execution_count": 1745,
   "id": "72bcd78e-cdbd-427c-9555-6f02bed02604",
   "metadata": {},
   "outputs": [],
   "source": [
    "# Compute split sizes\n",
    "train_size = int(0.7 * len(X))\n",
    "val_size = int(0.15 * len(X))"
   ]
  },
  {
   "cell_type": "code",
   "execution_count": 1746,
   "id": "15cb17a4-a31c-466e-9bdd-5fdbbbf1ebb6",
   "metadata": {},
   "outputs": [],
   "source": [
    "# Split indices\n",
    "train_indices = indices[:train_size]\n",
    "val_indices = indices[train_size:train_size + val_size]\n",
    "test_indices = indices[train_size + val_size:]"
   ]
  },
  {
   "cell_type": "code",
   "execution_count": 1747,
   "id": "2fc3df63-93a2-4302-beb8-14791659eb82",
   "metadata": {},
   "outputs": [],
   "source": [
    "# Create splits\n",
    "X_train, y_train = X[train_indices], y[train_indices]\n",
    "X_val, y_val = X[val_indices], y[val_indices]\n",
    "X_test, y_test = X[test_indices], y[test_indices]"
   ]
  },
  {
   "cell_type": "code",
   "execution_count": 1748,
   "id": "0767b892-b447-4353-9c6c-9ae9f18ba276",
   "metadata": {},
   "outputs": [
    {
     "name": "stdout",
     "output_type": "stream",
     "text": [
      "Train set: (623, 6), Validation set: (133, 6), Test set: (135, 6)\n"
     ]
    }
   ],
   "source": [
    "# Check sizes\n",
    "print(f\"Train set: {X_train.shape}, Validation set: {X_val.shape}, Test set: {X_test.shape}\")"
   ]
  },
  {
   "cell_type": "code",
   "execution_count": 1749,
   "id": "fa807d97-4d4e-4e0c-887d-e6b09c225334",
   "metadata": {},
   "outputs": [],
   "source": [
    "# Sigmoid function\n",
    "def sigmoid(z):\n",
    "    return 1 / (1 + np.exp(-z))"
   ]
  },
  {
   "cell_type": "code",
   "execution_count": 1750,
   "id": "4aade891-86ed-4a0b-84ce-52bae8bf00ef",
   "metadata": {},
   "outputs": [],
   "source": [
    "# Cost function (Binary Cross-Entropy Loss)\n",
    "def compute_cost(X, y, weights):\n",
    "    m = len(y)\n",
    "    predictions = sigmoid(np.dot(X, weights))\n",
    "    cost = (-1 / m) * np.sum(y * np.log(predictions) + (1 - y) * np.log(1 - predictions))\n",
    "    return cost"
   ]
  },
  {
   "cell_type": "code",
   "execution_count": 1751,
   "id": "95ad953e-1dd5-461b-8cac-6053f5ce5a09",
   "metadata": {},
   "outputs": [],
   "source": [
    "# Gradient Descent with Validation Loss Tracking\n",
    "def gradient_descent(X_train, y_train, X_val, y_val, weights, learning_rate, iterations):\n",
    "    m = len(y_train)\n",
    "    train_cost_history = []\n",
    "    val_cost_history = []\n",
    "\n",
    "    for _ in range(iterations):\n",
    "        # Predictions\n",
    "        predictions = sigmoid(np.dot(X_train, weights))\n",
    "\n",
    "        # Compute gradient\n",
    "        gradient = np.dot(X_train.T, (predictions - y_train)) / m\n",
    "        weights -= learning_rate * gradient\n",
    "\n",
    "        # Compute cost for training and validation\n",
    "        train_cost = compute_cost(X_train, y_train, weights)\n",
    "        val_cost = compute_cost(X_val, y_val, weights)\n",
    "        \n",
    "        train_cost_history.append(train_cost)\n",
    "        val_cost_history.append(val_cost)\n",
    "\n",
    "    return weights, train_cost_history, val_cost_history"
   ]
  },
  {
   "cell_type": "code",
   "execution_count": 1752,
   "id": "44d01653-886b-40d8-91fe-084d0eb55e47",
   "metadata": {},
   "outputs": [],
   "source": [
    "# Initialize weights\n",
    "weights = np.zeros(X_train.shape[1])"
   ]
  },
  {
   "cell_type": "code",
   "execution_count": 1753,
   "id": "8a688c16-37c1-4122-b78f-33b4fadea379",
   "metadata": {},
   "outputs": [],
   "source": [
    "# Train model \n",
    "learning_rate = 0.5\n",
    "iterations = 100\n",
    "weights, train_cost_history, val_cost_history = gradient_descent(X_train, y_train, X_val, y_val, weights, learning_rate, iterations)"
   ]
  },
  {
   "cell_type": "code",
   "execution_count": 1754,
   "id": "7112cac0-8866-4143-83f6-120405794175",
   "metadata": {},
   "outputs": [],
   "source": [
    "def predict(X, weights):\n",
    "    return (sigmoid(np.dot(X, weights)) >= 0.5).astype(int)\n",
    "\n",
    "y_pred = predict(X_test, weights)"
   ]
  },
  {
   "cell_type": "code",
   "execution_count": 1755,
   "id": "c544e11b-b04e-4729-9ab7-033cb1788a50",
   "metadata": {},
   "outputs": [
    {
     "name": "stdout",
     "output_type": "stream",
     "text": [
      "Model Accuracy: 76.30%\n"
     ]
    }
   ],
   "source": [
    "accuracy = np.mean(y_pred == y_test)\n",
    "print(f\"Model Accuracy: {accuracy * 100:.2f}%\")"
   ]
  },
  {
   "cell_type": "code",
   "execution_count": 1756,
   "id": "e854edcd-fbd2-40aa-8d4d-0e3ad1522a76",
   "metadata": {},
   "outputs": [],
   "source": [
    "# Function to compute accuracy\n",
    "def compute_accuracy(X, y, weights):\n",
    "    y_pred = predict(X, weights)\n",
    "    return np.mean(y_pred == y)"
   ]
  },
  {
   "cell_type": "code",
   "execution_count": 1757,
   "id": "586c9a25-220d-42f9-be08-14e6d38a5e02",
   "metadata": {},
   "outputs": [
    {
     "name": "stdout",
     "output_type": "stream",
     "text": [
      "Validation Set Accuracy: 78.20%\n"
     ]
    }
   ],
   "source": [
    "# Compute validation accuracy\n",
    "val_accuracy = compute_accuracy(X_val, y_val, weights)\n",
    "print(f\"Validation Set Accuracy: {val_accuracy * 100:.2f}%\")"
   ]
  },
  {
   "cell_type": "code",
   "execution_count": 1758,
   "id": "2e52f707-9492-4216-a783-498d6554c9d2",
   "metadata": {},
   "outputs": [
    {
     "data": {
      "image/png": "[encoded data removed]",
      "text/plain": [
       "<Figure size 640x480 with 1 Axes>"
      ]
     },
     "metadata": {},
     "output_type": "display_data"
    }
   ],
   "source": [
    "# Plot Training & Validation Loss\n",
    "plt.plot(range(len(train_cost_history)), train_cost_history, label='Training Loss')\n",
    "plt.plot(range(len(val_cost_history)), val_cost_history, label='Validation Loss', linestyle='dashed')\n",
    "plt.xlabel(\"Iterations\")\n",
    "plt.ylabel(\"Cost (Loss)\")\n",
    "plt.title(\"Training vs Validation Loss\")\n",
    "plt.legend()\n",
    "plt.show()"
   ]
  },
  {
   "cell_type": "code",
   "execution_count": 1759,
   "id": "502cef4d-88b0-4832-8e38-250703a38a55",
   "metadata": {},
   "outputs": [
    {
     "name": "stdout",
     "output_type": "stream",
     "text": [
      "Best Threshold (from validation): 0.05, Best F1 Score: 0.7290\n"
     ]
    }
   ],
   "source": [
    "# Get probability predictions for validation set\n",
    "y_probs_val = predict(X_val, weights)  # Predict probabilities on validation set\n",
    "\n",
    "# Ensure `y_val` is a NumPy array\n",
    "y_val = np.array(y_val)\n",
    "\n",
    "# Define a range of thresholds\n",
    "thresholds = np.linspace(0.05, 0.95, num=19) \n",
    "\n",
    "best_threshold = 0.5\n",
    "best_f1 = 0\n",
    "\n",
    "# Function to compute precision, recall, and F1-score\n",
    "def compute_f1(y_true, y_pred):\n",
    "    TP = np.sum((y_pred == 1) & (y_true == 1))\n",
    "    FP = np.sum((y_pred == 1) & (y_true == 0))\n",
    "    FN = np.sum((y_pred == 0) & (y_true == 1))\n",
    "    \n",
    "    # Avoid division by zero\n",
    "    precision = TP / (TP + FP) if (TP + FP) > 0 else 0\n",
    "    recall = TP / (TP + FN) if (TP + FN) > 0 else 0\n",
    "    f1 = 2 * (precision * recall) / (precision + recall) if (precision + recall) > 0 else 0\n",
    "    \n",
    "    return f1\n",
    "\n",
    "# Find the best threshold using validation data\n",
    "for t in thresholds:\n",
    "    y_pred_val = np.where(y_probs_val >= t, 1, 0)  # Convert probabilities to binary\n",
    "    f1 = compute_f1(y_val, y_pred_val)  # Compute F1 score\n",
    "    \n",
    "    if f1 > best_f1:\n",
    "        best_f1 = f1\n",
    "        best_threshold = t  # Update best threshold\n",
    "\n",
    "print(f\"Best Threshold (from validation): {best_threshold}, Best F1 Score: {best_f1:.4f}\")\n"
   ]
  },
  {
   "cell_type": "code",
   "execution_count": 1760,
   "id": "1d10be07-a5e1-4908-9109-c3848602a575",
   "metadata": {},
   "outputs": [
    {
     "name": "stdout",
     "output_type": "stream",
     "text": [
      "Test Precision: 0.6129\n",
      "Test Recall: 0.8261\n",
      "Test F1 Score: 0.7037\n"
     ]
    }
   ],
   "source": [
    "# Predict on test data\n",
    "y_pred_test = predict(X_test, weights)  # Ensure predict function returns binary values (0/1)\n",
    "\n",
    "# Convert probabilities to binary (if needed)\n",
    "y_pred_test = np.where(y_pred_test >= best_threshold, 1, 0)\n",
    "\n",
    "# Compute True Positives, False Positives, False Negatives\n",
    "TP = np.sum((y_pred_test == 1) & (y_test == 1))\n",
    "FP = np.sum((y_pred_test == 1) & (y_test == 0))\n",
    "FN = np.sum((y_pred_test == 0) & (y_test == 1))\n",
    "\n",
    "# Compute Precision and Recall\n",
    "precision = TP / (TP + FP) if (TP + FP) > 0 else 0\n",
    "recall = TP / (TP + FN) if (TP + FN) > 0 else 0\n",
    "\n",
    "# Compute F1 Score\n",
    "f1_score = 2 * (precision * recall) / (precision + recall) if (precision + recall) > 0 else 0\n",
    "\n",
    "print(f\"Test Precision: {precision:.4f}\")\n",
    "print(f\"Test Recall: {recall:.4f}\")\n",
    "print(f\"Test F1 Score: {f1_score:.4f}\")"
   ]
  },
  {
   "cell_type": "code",
   "execution_count": 1761,
   "id": "1c6d699c-dfbd-4178-bcc5-ec9db62e1e5d",
   "metadata": {},
   "outputs": [
    {
     "name": "stdout",
     "output_type": "stream",
     "text": [
      "Confusion Matrix:\n",
      "TP: 38  FP: 24\n",
      "FN: 8  TN: 64\n"
     ]
    }
   ],
   "source": [
    "# Print confusion matrix\n",
    "print(\"Confusion Matrix:\")\n",
    "print(f\"TP: {TP}  FP: {FP}\")\n",
    "print(f\"FN: {FN}  TN: {TN}\")"
   ]
  },
  {
   "cell_type": "code",
   "execution_count": 1762,
   "id": "c6621055-fcbe-4941-891a-e34363d4a344",
   "metadata": {},
   "outputs": [
    {
     "data": {
      "image/png": "[encoded data removed]",
      "text/plain": [
       "<Figure size 500x400 with 2 Axes>"
      ]
     },
     "metadata": {},
     "output_type": "display_data"
    }
   ],
   "source": [
    "# Create confusion matrix as a 2x2 array\n",
    "conf_matrix = np.array([[TN, FP], [FN, TP]])\n",
    "\n",
    "# Plot using seaborn\n",
    "plt.figure(figsize=(5, 4))\n",
    "sns.heatmap(conf_matrix, annot=True, fmt='d', cmap=\"Blues\", xticklabels=[\"Pred 0\", \"Pred 1\"], yticklabels=[\"Actual 0\", \"Actual 1\"])\n",
    "plt.xlabel(\"Predicted Label\")\n",
    "plt.ylabel(\"Actual Label\")\n",
    "plt.title(\"Confusion Matrix\")\n",
    "plt.show()"
   ]
  }
 ],
 "metadata": {
  "kernelspec": {
   "display_name": "Python 3 (ipykernel)",
   "language": "python",
   "name": "python3"
  },
  "language_info": {
   "codemirror_mode": {
    "name": "ipython",
    "version": 3
   },
   "file_extension": ".py",
   "mimetype": "text/x-python",
   "name": "python",
   "nbconvert_exporter": "python",
   "pygments_lexer": "ipython3",
   "version": "3.12.7"
  }
 },
 "nbformat": 4,
 "nbformat_minor": 5
}
